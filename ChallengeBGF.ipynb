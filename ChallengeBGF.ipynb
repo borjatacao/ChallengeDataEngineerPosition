{
 "cells": [
  {
   "cell_type": "markdown",
   "metadata": {},
   "source": [
    "# Challenge for Data Engineer position at TI\n",
    "\n",
    "Borja González Ferreiro\n"
   ]
  },
  {
   "cell_type": "markdown",
   "metadata": {},
   "source": [
    "# First exercise: count the number of lines in Python for each file"
   ]
  },
  {
   "cell_type": "code",
   "execution_count": 1,
   "metadata": {
    "collapsed": false
   },
   "outputs": [
    {
     "name": "stdout",
     "output_type": "stream",
     "text": [
      "Number of lines for ../bookings.csv: 10000011 (header included)\n",
      "Number of lines for ../searches.csv: 20390199 (header included)\n"
     ]
    }
   ],
   "source": [
    "bookingName = \"../bookings.csv\"\n",
    "searchName = \"../searches.csv\" \n",
    "\n",
    "with open(bookingName, \"r\") as f: nbLinesBook = sum(1 for line in f)\n",
    "with open(searchName, \"r\")  as f: nbLinesSearch = sum(1 for line in f)\n",
    "    \n",
    "print(\"Number of lines for {}: {:n} (header included)\".format(bookingName, nbLinesBook))\n",
    "print(\"Number of lines for {}: {:n} (header included)\".format(searchName, nbLinesSearch))"
   ]
  },
  {
   "cell_type": "markdown",
   "metadata": {},
   "source": [
    "# Second exercise: top 10 arrival airports in the world in 2013 (using the bookings file)"
   ]
  },
  {
   "cell_type": "code",
   "execution_count": 2,
   "metadata": {
    "collapsed": true
   },
   "outputs": [],
   "source": [
    "import pandas as pd # For bonus points :)\n",
    "\n",
    "\n",
    "# Since the data fits in memory, it is not necessary to process the file by chunks\n",
    "# We are only going to use columns arr_port and pax, so not need to load the rest\n",
    "bookings = pd.read_csv(bookingName,  sep='^', usecols=[\"arr_port\", \"pax\"])# dtype={'pax':int, 'arr_port':str})"
   ]
  },
  {
   "cell_type": "markdown",
   "metadata": {},
   "source": [
    "### Quick check that there are no oddities in the data such as missing values"
   ]
  },
  {
   "cell_type": "code",
   "execution_count": 3,
   "metadata": {
    "collapsed": false
   },
   "outputs": [
    {
     "data": {
      "text/html": [
       "<div>\n",
       "<table border=\"1\" class=\"dataframe\">\n",
       "  <thead>\n",
       "    <tr style=\"text-align: right;\">\n",
       "      <th></th>\n",
       "      <th>pax</th>\n",
       "    </tr>\n",
       "  </thead>\n",
       "  <tbody>\n",
       "    <tr>\n",
       "      <th>count</th>\n",
       "      <td>10000009.000000</td>\n",
       "    </tr>\n",
       "    <tr>\n",
       "      <th>mean</th>\n",
       "      <td>0.490880</td>\n",
       "    </tr>\n",
       "    <tr>\n",
       "      <th>std</th>\n",
       "      <td>2.199173</td>\n",
       "    </tr>\n",
       "    <tr>\n",
       "      <th>min</th>\n",
       "      <td>-90.000000</td>\n",
       "    </tr>\n",
       "    <tr>\n",
       "      <th>25%</th>\n",
       "      <td>-1.000000</td>\n",
       "    </tr>\n",
       "    <tr>\n",
       "      <th>50%</th>\n",
       "      <td>1.000000</td>\n",
       "    </tr>\n",
       "    <tr>\n",
       "      <th>75%</th>\n",
       "      <td>1.000000</td>\n",
       "    </tr>\n",
       "    <tr>\n",
       "      <th>max</th>\n",
       "      <td>99.000000</td>\n",
       "    </tr>\n",
       "  </tbody>\n",
       "</table>\n",
       "</div>"
      ],
      "text/plain": [
       "                   pax\n",
       "count  10000009.000000\n",
       "mean          0.490880\n",
       "std           2.199173\n",
       "min         -90.000000\n",
       "25%          -1.000000\n",
       "50%           1.000000\n",
       "75%           1.000000\n",
       "max          99.000000"
      ]
     },
     "execution_count": 3,
     "metadata": {},
     "output_type": "execute_result"
    }
   ],
   "source": [
    "bookings.describe()"
   ]
  },
  {
   "cell_type": "markdown",
   "metadata": {},
   "source": [
    "We notice that there is something off since there should be 10000010 instead of 10000009. Let's find which row contain an NaN value and remove it from our dataframe:"
   ]
  },
  {
   "cell_type": "code",
   "execution_count": 5,
   "metadata": {
    "collapsed": false
   },
   "outputs": [],
   "source": [
    "bookings=bookings[bookings.pax.notnull()]"
   ]
  },
  {
   "cell_type": "markdown",
   "metadata": {},
   "source": [
    "### top 10 arrival airports in the world in 2013"
   ]
  },
  {
   "cell_type": "code",
   "execution_count": 11,
   "metadata": {
    "collapsed": false
   },
   "outputs": [],
   "source": [
    "groupAir = bookings[['arr_port', 'pax']].groupby('arr_port', sort=False)\n",
    "\n",
    "numAir = 10\n",
    "airTopPax=groupAir.sum().nlargest(numAir, 'pax')"
   ]
  },
  {
   "cell_type": "code",
   "execution_count": 14,
   "metadata": {
    "collapsed": false
   },
   "outputs": [
    {
     "name": "stdout",
     "output_type": "stream",
     "text": [
      "The 10 airports with more passengers are:\n"
     ]
    },
    {
     "data": {
      "text/html": [
       "<div>\n",
       "<table border=\"1\" class=\"dataframe\">\n",
       "  <thead>\n",
       "    <tr style=\"text-align: right;\">\n",
       "      <th></th>\n",
       "      <th>Arrivals</th>\n",
       "      <th>City</th>\n",
       "    </tr>\n",
       "    <tr>\n",
       "      <th>Airport</th>\n",
       "      <th></th>\n",
       "      <th></th>\n",
       "    </tr>\n",
       "  </thead>\n",
       "  <tbody>\n",
       "    <tr>\n",
       "      <th>LHR</th>\n",
       "      <td>88809</td>\n",
       "      <td>London</td>\n",
       "    </tr>\n",
       "    <tr>\n",
       "      <th>MCO</th>\n",
       "      <td>70930</td>\n",
       "      <td>Orlando</td>\n",
       "    </tr>\n",
       "    <tr>\n",
       "      <th>LAX</th>\n",
       "      <td>70530</td>\n",
       "      <td>Los Angeles</td>\n",
       "    </tr>\n",
       "    <tr>\n",
       "      <th>LAS</th>\n",
       "      <td>69630</td>\n",
       "      <td>Las Vegas</td>\n",
       "    </tr>\n",
       "    <tr>\n",
       "      <th>JFK</th>\n",
       "      <td>66270</td>\n",
       "      <td>New York City</td>\n",
       "    </tr>\n",
       "    <tr>\n",
       "      <th>CDG</th>\n",
       "      <td>64490</td>\n",
       "      <td>Paris</td>\n",
       "    </tr>\n",
       "    <tr>\n",
       "      <th>BKK</th>\n",
       "      <td>59460</td>\n",
       "      <td>Bangkok</td>\n",
       "    </tr>\n",
       "    <tr>\n",
       "      <th>MIA</th>\n",
       "      <td>58150</td>\n",
       "      <td>Miami</td>\n",
       "    </tr>\n",
       "    <tr>\n",
       "      <th>SFO</th>\n",
       "      <td>58000</td>\n",
       "      <td>San Francisco</td>\n",
       "    </tr>\n",
       "    <tr>\n",
       "      <th>DXB</th>\n",
       "      <td>55590</td>\n",
       "      <td>Dubai</td>\n",
       "    </tr>\n",
       "  </tbody>\n",
       "</table>\n",
       "</div>"
      ],
      "text/plain": [
       "          Arrivals           City\n",
       "Airport                          \n",
       "LHR          88809         London\n",
       "MCO          70930        Orlando\n",
       "LAX          70530    Los Angeles\n",
       "LAS          69630      Las Vegas\n",
       "JFK          66270  New York City\n",
       "CDG          64490          Paris\n",
       "BKK          59460        Bangkok\n",
       "MIA          58150          Miami\n",
       "SFO          58000  San Francisco\n",
       "DXB          55590          Dubai"
      ]
     },
     "execution_count": 14,
     "metadata": {},
     "output_type": "execute_result"
    }
   ],
   "source": [
    "from GeoBases import GeoBase\n",
    "geo_o = GeoBase(data='ori_por', verbose=False)\n",
    "\n",
    "#Add column with the city corresponding to the airport\n",
    "airTopPax['City'] = airTopPax.apply(lambda row: geo_o.get(row.name.strip(),'city_name_ascii'), axis=1)\n",
    "\n",
    "# Change names of columns and index for display\n",
    "airTopPax.rename(columns={ 'pax': 'Arrivals'}, inplace=True)\n",
    "airTopPax.index.names = ['Airport']\n",
    "\n",
    "print(\"The {} airports with more passengers are:\".format(numAir))\n",
    "airTopPax"
   ]
  },
  {
   "cell_type": "markdown",
   "metadata": {},
   "source": [
    "# Third exercise: plot the monthly number of searches for flights arriving at Málaga, Madrid or Barcelona¶"
   ]
  },
  {
   "cell_type": "markdown",
   "metadata": {},
   "source": [
    "After taking a look at the data, some lines use as delimiter between fields a ','. That is why I modified the original searches file in order to have exclussively ^ as delimiter. I used the following command:\n",
    "sed 's/,/\\^/g' ../searches.csv > ../correctedSearches.csv"
   ]
  },
  {
   "cell_type": "code",
   "execution_count": 2,
   "metadata": {
    "collapsed": false
   },
   "outputs": [],
   "source": [
    "import pandas as pd # For bonus points :)\n",
    "\n",
    "\n",
    "searchName = \"../correctedSearches.csv\" \n",
    "\n",
    "# Since the data fits in memory, it is not necessary to process the file by chunks\n",
    "# We are only going to use columns Origin and Destination, so not need to load the rest\n",
    "# Taking a look at the file, we notice most of the lines use ^ as field separator and only 33 lines use ,\n",
    "searches = pd.read_csv(searchName,  sep='^', usecols=[\"Date\", \"Origin\", \"Destination\"], parse_dates=['Date'], dayfirst=False, index_col='Date')"
   ]
  },
  {
   "cell_type": "markdown",
   "metadata": {
    "collapsed": true
   },
   "source": [
    "### Quick check that there are no oddities in the data such as missing values¶"
   ]
  },
  {
   "cell_type": "code",
   "execution_count": 3,
   "metadata": {
    "collapsed": false
   },
   "outputs": [
    {
     "data": {
      "text/html": [
       "<div>\n",
       "<table border=\"1\" class=\"dataframe\">\n",
       "  <thead>\n",
       "    <tr style=\"text-align: right;\">\n",
       "      <th></th>\n",
       "      <th>Origin</th>\n",
       "      <th>Destination</th>\n",
       "    </tr>\n",
       "  </thead>\n",
       "  <tbody>\n",
       "    <tr>\n",
       "      <th>count</th>\n",
       "      <td>20390198</td>\n",
       "      <td>20390198</td>\n",
       "    </tr>\n",
       "    <tr>\n",
       "      <th>unique</th>\n",
       "      <td>2503</td>\n",
       "      <td>3068</td>\n",
       "    </tr>\n",
       "    <tr>\n",
       "      <th>top</th>\n",
       "      <td>FRA</td>\n",
       "      <td>BKK</td>\n",
       "    </tr>\n",
       "    <tr>\n",
       "      <th>freq</th>\n",
       "      <td>550736</td>\n",
       "      <td>477093</td>\n",
       "    </tr>\n",
       "  </tbody>\n",
       "</table>\n",
       "</div>"
      ],
      "text/plain": [
       "          Origin Destination\n",
       "count   20390198    20390198\n",
       "unique      2503        3068\n",
       "top          FRA         BKK\n",
       "freq      550736      477093"
      ]
     },
     "execution_count": 3,
     "metadata": {},
     "output_type": "execute_result"
    }
   ],
   "source": [
    "searches.describe()"
   ]
  },
  {
   "cell_type": "markdown",
   "metadata": {},
   "source": [
    "We notice that the number of values for Origin and destination match the number of lines in the file (without the header)."
   ]
  },
  {
   "cell_type": "markdown",
   "metadata": {},
   "source": [
    "### Plotting the monthly number of searches for flights arriving at Málaga, Madrid or Barcelona"
   ]
  },
  {
   "cell_type": "markdown",
   "metadata": {},
   "source": [
    "First, we pick only the rows associated with destinations: Madrid, Málaga and Barcelona airports. Then we group the values  by month and destination and we count the number of searches for each destination, so that finally I only have to plot them. "
   ]
  },
  {
   "cell_type": "code",
   "execution_count": 8,
   "metadata": {
    "collapsed": true
   },
   "outputs": [],
   "source": [
    "airSearches = searches[(searches[\"Destination\"] == \"MAD\") | (searches[\"Destination\"] == \"BCN\") | (searches[\"Destination\"] == \"AGP\")]\n",
    "\n",
    "monthSearches = airSearches.groupby([pd.TimeGrouper(freq='M'), \"Destination\"]).count()\n"
   ]
  },
  {
   "cell_type": "code",
   "execution_count": null,
   "metadata": {
    "collapsed": true
   },
   "outputs": [],
   "source": []
  }
 ],
 "metadata": {
  "kernelspec": {
   "display_name": "Python 3",
   "language": "python",
   "name": "python3"
  },
  "language_info": {
   "codemirror_mode": {
    "name": "ipython",
    "version": 3
   },
   "file_extension": ".py",
   "mimetype": "text/x-python",
   "name": "python",
   "nbconvert_exporter": "python",
   "pygments_lexer": "ipython3",
   "version": "3.5.3"
  }
 },
 "nbformat": 4,
 "nbformat_minor": 0
}
