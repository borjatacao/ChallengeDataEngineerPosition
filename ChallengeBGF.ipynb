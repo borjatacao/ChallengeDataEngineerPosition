{
 "cells": [
  {
   "cell_type": "markdown",
   "metadata": {},
   "source": [
    "# Challenge for Data Engineer position at TI\n",
    "\n",
    "Borja González Ferreiro\n"
   ]
  },
  {
   "cell_type": "markdown",
   "metadata": {},
   "source": [
    "# First exercise: count the number of lines in Python for each file"
   ]
  },
  {
   "cell_type": "code",
   "execution_count": 1,
   "metadata": {
    "collapsed": false
   },
   "outputs": [
    {
     "name": "stdout",
     "output_type": "stream",
     "text": [
      "Number of lines for ../bookings.csv: 10000011 (header included)\n",
      "Number of lines for ../searches.csv: 20390199 (header included)\n"
     ]
    }
   ],
   "source": [
    "bookingName = \"../bookings.csv\"\n",
    "searchName = \"../searches.csv\" \n",
    "\n",
    "with open(bookingName, \"r\") as f: nbLinesBook = sum(1 for line in f)\n",
    "with open(searchName, \"r\")  as f: nbLinesSearch = sum(1 for line in f)\n",
    "    \n",
    "print(\"Number of lines for {}: {:n} (header included)\".format(bookingName, nbLinesBook))\n",
    "print(\"Number of lines for {}: {:n} (header included)\".format(searchName, nbLinesSearch))"
   ]
  },
  {
   "cell_type": "code",
   "execution_count": null,
   "metadata": {
    "collapsed": true
   },
   "outputs": [],
   "source": []
  }
 ],
 "metadata": {
  "kernelspec": {
   "display_name": "Python 3",
   "language": "python",
   "name": "python3"
  },
  "language_info": {
   "codemirror_mode": {
    "name": "ipython",
    "version": 3
   },
   "file_extension": ".py",
   "mimetype": "text/x-python",
   "name": "python",
   "nbconvert_exporter": "python",
   "pygments_lexer": "ipython3",
   "version": "3.5.3"
  }
 },
 "nbformat": 4,
 "nbformat_minor": 0
}
