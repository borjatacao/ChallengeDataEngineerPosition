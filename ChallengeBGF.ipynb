{
 "cells": [
  {
   "cell_type": "markdown",
   "metadata": {},
   "source": [
    "# Challenge for Data Engineer position at TI\n",
    "\n",
    "Borja González Ferreiro\n"
   ]
  },
  {
   "cell_type": "code",
   "execution_count": 1,
   "metadata": {
    "collapsed": true
   },
   "outputs": [],
   "source": [
    "# For having nice plots showing on the notebook\n",
    "%matplotlib inline"
   ]
  },
  {
   "cell_type": "markdown",
   "metadata": {},
   "source": [
    "# First exercise: count the number of lines in Python for each file"
   ]
  },
  {
   "cell_type": "code",
   "execution_count": null,
   "metadata": {
    "collapsed": false
   },
   "outputs": [],
   "source": [
    "bookingName = \"../bookings.csv\"\n",
    "searchName = \"../searches.csv\" \n",
    "\n",
    "with open(bookingName, \"r\") as f: nbLinesBook = sum(1 for line in f)\n",
    "with open(searchName, \"r\")  as f: nbLinesSearch = sum(1 for line in f)\n",
    "    \n",
    "print(\"Number of lines for {}: {:n} (header included)\".format(bookingName, nbLinesBook))\n",
    "print(\"Number of lines for {}: {:n} (header included)\".format(searchName, nbLinesSearch))"
   ]
  },
  {
   "cell_type": "markdown",
   "metadata": {},
   "source": [
    "# Second exercise: top 10 arrival airports in the world in 2013 (using the bookings file)"
   ]
  },
  {
   "cell_type": "code",
   "execution_count": null,
   "metadata": {
    "collapsed": true
   },
   "outputs": [],
   "source": [
    "import pandas as pd # For bonus points :)\n",
    "\n",
    "\n",
    "# Since the data fits in memory, it is not necessary to process the file by chunks\n",
    "# We are only going to use columns arr_port and pax, so not need to load the rest\n",
    "bookings = pd.read_csv(bookingName,  sep='^', usecols=[\"arr_port\", \"pax\"])# dtype={'pax':int, 'arr_port':str})"
   ]
  },
  {
   "cell_type": "markdown",
   "metadata": {},
   "source": [
    "### Quick check that there are no oddities in the data such as missing values"
   ]
  },
  {
   "cell_type": "code",
   "execution_count": null,
   "metadata": {
    "collapsed": false
   },
   "outputs": [],
   "source": [
    "bookings.describe()"
   ]
  },
  {
   "cell_type": "markdown",
   "metadata": {},
   "source": [
    "We notice that there is something off since there should be 10000010 instead of 10000009. Let's find which row contain an NaN value and remove it from our dataframe:"
   ]
  },
  {
   "cell_type": "code",
   "execution_count": null,
   "metadata": {
    "collapsed": false
   },
   "outputs": [],
   "source": [
    "bookings=bookings[bookings.pax.notnull()]"
   ]
  },
  {
   "cell_type": "markdown",
   "metadata": {},
   "source": [
    "### top 10 arrival airports in the world in 2013"
   ]
  },
  {
   "cell_type": "code",
   "execution_count": null,
   "metadata": {
    "collapsed": false
   },
   "outputs": [],
   "source": [
    "groupAir = bookings[['arr_port', 'pax']].groupby('arr_port', sort=False)\n",
    "\n",
    "numAir = 10\n",
    "airTopPax=groupAir.sum().nlargest(numAir, 'pax')"
   ]
  },
  {
   "cell_type": "code",
   "execution_count": null,
   "metadata": {
    "collapsed": false
   },
   "outputs": [],
   "source": [
    "from GeoBases import GeoBase\n",
    "geo_o = GeoBase(data='ori_por', verbose=False)\n",
    "\n",
    "#Add column with the city corresponding to the airport\n",
    "airTopPax['City'] = airTopPax.apply(lambda row: geo_o.get(row.name.strip(),'city_name_ascii'), axis=1)\n",
    "\n",
    "# Change names of columns and index for display\n",
    "airTopPax.rename(columns={ 'pax': 'Arrivals'}, inplace=True)\n",
    "airTopPax.index.names = ['Airport']\n",
    "\n",
    "print(\"The {} airports with more passengers are:\".format(numAir))\n",
    "airTopPax"
   ]
  },
  {
   "cell_type": "markdown",
   "metadata": {},
   "source": [
    "# Third exercise: plot the monthly number of searches for flights arriving at Málaga, Madrid or Barcelona¶"
   ]
  },
  {
   "cell_type": "markdown",
   "metadata": {},
   "source": [
    "After taking a look at the data, some lines use as delimiter between fields a ','. That is why I modified the original searches file in order to have exclussively ^ as delimiter. I used the following command:\n",
    "sed 's/,/\\^/g' ../searches.csv > ../correctedSearches.csv"
   ]
  },
  {
   "cell_type": "code",
   "execution_count": 2,
   "metadata": {
    "collapsed": false
   },
   "outputs": [],
   "source": [
    "import pandas as pd # For bonus points :)\n",
    "\n",
    "\n",
    "searchName = \"../correctedSearches.csv\" \n",
    "\n",
    "# Since the data fits in memory, it is not necessary to process the file by chunks\n",
    "# We are only going to use columns Origin and Destination, so not need to load the rest\n",
    "# Taking a look at the file, we notice most of the lines use ^ as field separator and only 33 lines use ,\n",
    "searches = pd.read_csv(searchName,  sep='^', usecols=[\"Date\", \"Origin\", \"Destination\"], parse_dates=['Date'], dayfirst=False, index_col='Date')"
   ]
  },
  {
   "cell_type": "markdown",
   "metadata": {
    "collapsed": true
   },
   "source": [
    "### Quick check that there are no oddities in the data such as missing values¶"
   ]
  },
  {
   "cell_type": "code",
   "execution_count": 3,
   "metadata": {
    "collapsed": false
   },
   "outputs": [
    {
     "data": {
      "text/html": [
       "<div>\n",
       "<table border=\"1\" class=\"dataframe\">\n",
       "  <thead>\n",
       "    <tr style=\"text-align: right;\">\n",
       "      <th></th>\n",
       "      <th>Origin</th>\n",
       "      <th>Destination</th>\n",
       "    </tr>\n",
       "  </thead>\n",
       "  <tbody>\n",
       "    <tr>\n",
       "      <th>count</th>\n",
       "      <td>20390198</td>\n",
       "      <td>20390198</td>\n",
       "    </tr>\n",
       "    <tr>\n",
       "      <th>unique</th>\n",
       "      <td>2503</td>\n",
       "      <td>3068</td>\n",
       "    </tr>\n",
       "    <tr>\n",
       "      <th>top</th>\n",
       "      <td>FRA</td>\n",
       "      <td>BKK</td>\n",
       "    </tr>\n",
       "    <tr>\n",
       "      <th>freq</th>\n",
       "      <td>550736</td>\n",
       "      <td>477093</td>\n",
       "    </tr>\n",
       "  </tbody>\n",
       "</table>\n",
       "</div>"
      ],
      "text/plain": [
       "          Origin Destination\n",
       "count   20390198    20390198\n",
       "unique      2503        3068\n",
       "top          FRA         BKK\n",
       "freq      550736      477093"
      ]
     },
     "execution_count": 3,
     "metadata": {},
     "output_type": "execute_result"
    }
   ],
   "source": [
    "searches.describe()"
   ]
  },
  {
   "cell_type": "markdown",
   "metadata": {},
   "source": [
    "We notice that the number of values for Origin and destination match the number of lines in the file (without the header)."
   ]
  },
  {
   "cell_type": "markdown",
   "metadata": {},
   "source": [
    "### Plotting the monthly number of searches for flights arriving at Málaga, Madrid or Barcelona"
   ]
  },
  {
   "cell_type": "markdown",
   "metadata": {},
   "source": [
    "First, we pick only the rows associated with destinations: Madrid, Málaga and Barcelona airports. Then we group the values  by month and destination and we count the number of searches for each destination, so that finally I only have to plot them. "
   ]
  },
  {
   "cell_type": "code",
   "execution_count": 4,
   "metadata": {
    "collapsed": false
   },
   "outputs": [
    {
     "data": {
      "text/plain": [
       "<matplotlib.legend.Legend at 0x13bb23f28>"
      ]
     },
     "execution_count": 4,
     "metadata": {},
     "output_type": "execute_result"
    },
    {
     "data": {
      "image/png": "[encoded data removed]",
      "text/plain": [
       "<matplotlib.figure.Figure at 0x136679f60>"
      ]
     },
     "metadata": {},
     "output_type": "display_data"
    }
   ],
   "source": [
    "airSearches = searches[(searches[\"Destination\"] == \"MAD\") | (searches[\"Destination\"] == \"BCN\") | (searches[\"Destination\"] == \"AGP\")]\n",
    "\n",
    "monthSearches = airSearches.groupby([pd.TimeGrouper(freq='M'), \"Destination\"]).count()\n",
    "\n",
    "pl=monthSearches.unstack().plot()\n",
    "pl.legendlabels = [\"AGP\", \"BCN\", \"MAD\"]\n",
    "pl.set(ylabel='Monthly Number of searches')\n",
    "pl.legend(bbox_to_anchor=(1.05, 1), loc=2, borderaxespad=0., labels=[\"Málaga (AGP)\", \"Barcelona (BCN)\", \"Madrid (MAD)\"])"
   ]
  },
  {
   "cell_type": "code",
   "execution_count": null,
   "metadata": {
    "collapsed": true
   },
   "outputs": [],
   "source": []
  }
 ],
 "metadata": {
  "kernelspec": {
   "display_name": "Python 3",
   "language": "python",
   "name": "python3"
  },
  "language_info": {
   "codemirror_mode": {
    "name": "ipython",
    "version": 3
   },
   "file_extension": ".py",
   "mimetype": "text/x-python",
   "name": "python",
   "nbconvert_exporter": "python",
   "pygments_lexer": "ipython3",
   "version": "3.5.3"
  }
 },
 "nbformat": 4,
 "nbformat_minor": 0
}
